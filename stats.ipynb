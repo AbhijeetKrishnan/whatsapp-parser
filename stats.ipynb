{
 "cells": [
  {
   "cell_type": "markdown",
   "metadata": {},
   "source": [
    "# Imports"
   ]
  },
  {
   "cell_type": "code",
   "execution_count": null,
   "metadata": {},
   "outputs": [],
   "source": [
    "import matplotlib.pyplot as plt\n",
    "import pandas as pd\n",
    "import numpy as np\n",
    "import math"
   ]
  },
  {
   "cell_type": "markdown",
   "metadata": {},
   "source": [
    "# Load data"
   ]
  },
  {
   "cell_type": "code",
   "execution_count": null,
   "metadata": {},
   "outputs": [],
   "source": [
    "DATA_FILE = 'data/test.csv'\n",
    "df = pd.read_csv(DATA_FILE)"
   ]
  },
  {
   "cell_type": "markdown",
   "metadata": {},
   "source": [
    "# Preview data"
   ]
  },
  {
   "cell_type": "code",
   "execution_count": null,
   "metadata": {},
   "outputs": [],
   "source": [
    "print(df.head(10))"
   ]
  },
  {
   "cell_type": "markdown",
   "metadata": {},
   "source": [
    "# Stats"
   ]
  },
  {
   "cell_type": "markdown",
   "metadata": {},
   "source": [
    "## List participants ordered by decreasing message counts"
   ]
  },
  {
   "cell_type": "code",
   "execution_count": null,
   "metadata": {},
   "outputs": [],
   "source": [
    "name_totals = df.groupby(['name']).count()\n",
    "name_totals = name_totals.sort_values(['message'], ascending=False)\n",
    "name_totals = name_totals.drop(columns=\"datetime\")\n",
    "print(name_totals)"
   ]
  },
  {
   "cell_type": "markdown",
   "metadata": {},
   "source": [
    "## Top-n longest messages"
   ]
  },
  {
   "cell_type": "code",
   "execution_count": null,
   "metadata": {},
   "outputs": [],
   "source": [
    "n = 10\n",
    "longest_messages = df.sort_values(['message'], ascending=False, key=lambda x: x.str.len())\n",
    "print(longest_messages.head(n))"
   ]
  },
  {
   "cell_type": "markdown",
   "metadata": {},
   "source": [
    "## Most media sent by someone"
   ]
  },
  {
   "cell_type": "code",
   "execution_count": null,
   "metadata": {},
   "outputs": [],
   "source": [
    "n = 10\n",
    "media_counts = df[df['message_type'] == 'media_omitted'].groupby(['name']).count().drop(columns=['datetime', 'message'])\n",
    "print(media_counts.head(n))"
   ]
  },
  {
   "cell_type": "markdown",
   "metadata": {},
   "source": [
    "## Various statistics\n",
    "\n",
    "- Most group name changes\n",
    "- Number of birthdays\n",
    "- Number of group exits"
   ]
  },
  {
   "cell_type": "markdown",
   "metadata": {},
   "source": [
    "### Most group name changes"
   ]
  },
  {
   "cell_type": "code",
   "execution_count": null,
   "metadata": {},
   "outputs": [],
   "source": [
    "n = 10\n",
    "\n",
    "name_change_counts = df[df['message_type'] == 'subject_name_change'].groupby(['name']).count().drop(columns=['datetime', 'message']).sort_values(by=['message_type'], ascending=False)\n",
    "print(name_change_counts.head(n))"
   ]
  },
  {
   "cell_type": "markdown",
   "metadata": {},
   "source": [
    "### Number of birthdays"
   ]
  },
  {
   "cell_type": "code",
   "execution_count": null,
   "metadata": {},
   "outputs": [],
   "source": [
    "def is_birthday_message(message):\n",
    "    word_list = ['birthday', 'hbd', 'happy birthday']\n",
    "    for word in word_list:\n",
    "        if word in str(message):\n",
    "            return True\n",
    "    return False"
   ]
  },
  {
   "cell_type": "code",
   "execution_count": null,
   "metadata": {},
   "outputs": [],
   "source": [
    "birthday_messages = df[(df['message_type'] == 'subject_name_change') & (df['message'].apply(is_birthday_message))]\n",
    "birthday_messages"
   ]
  },
  {
   "cell_type": "markdown",
   "metadata": {},
   "source": [
    "### Number of group exits"
   ]
  },
  {
   "cell_type": "code",
   "execution_count": null,
   "metadata": {},
   "outputs": [],
   "source": [
    "group_exits = df[(df['message_type'] == 'left') | (df['message_type'] == 'you_left')]\n",
    "num_group_exits = len(group_exits)\n",
    "print(num_group_exits)"
   ]
  },
  {
   "cell_type": "markdown",
   "metadata": {},
   "source": [
    "## Word frequencies\n",
    "Ref: https://stackoverflow.com/questions/46786211/counting-the-frequency-of-words-in-a-pandas-data-frame"
   ]
  },
  {
   "cell_type": "code",
   "execution_count": null,
   "metadata": {},
   "outputs": [],
   "source": [
    "n = 100\n",
    "word_freqs = df[df['message_type'] == 'message']['message'].str.split(expand=True).stack().value_counts()\n",
    "print(word_freqs.head(n))"
   ]
  },
  {
   "cell_type": "markdown",
   "metadata": {},
   "source": [
    "# Word Cloud\n",
    "\n",
    "Ref: https://www.kaggle.com/code/olgaberezovsky/word-cloud-using-python-pandas/notebook"
   ]
  },
  {
   "cell_type": "code",
   "execution_count": null,
   "metadata": {},
   "outputs": [],
   "source": [
    "from wordcloud import WordCloud, STOPWORDS\n",
    "import re\n",
    "\n",
    "plt.style.use('bmh')"
   ]
  },
  {
   "cell_type": "code",
   "execution_count": null,
   "metadata": {},
   "outputs": [],
   "source": [
    "all_messages = \" \".join(df[df['message_type'] == 'message']['message'].astype(str))\n",
    "all_messages = re.sub(r'http\\S+', '<LINK>', all_messages)\n",
    "stopwords = STOPWORDS.add('LINK')"
   ]
  },
  {
   "cell_type": "code",
   "execution_count": null,
   "metadata": {},
   "outputs": [],
   "source": [
    "wc = WordCloud(background_color='white', stopwords=stopwords, max_words=100, width=800, height=600)\n",
    "wc.generate(all_messages)\n",
    "plt.imshow(wc, interpolation='bilinear')\n",
    "plt.axis('off')"
   ]
  },
  {
   "cell_type": "markdown",
   "metadata": {},
   "source": [
    "## Activity graph\n",
    "Plot message frequency with respect to time, to analyze when each individual is most active"
   ]
  },
  {
   "cell_type": "markdown",
   "metadata": {},
   "source": [
    "### Get number of hours of activity"
   ]
  },
  {
   "cell_type": "code",
   "execution_count": null,
   "metadata": {},
   "outputs": [],
   "source": [
    "first_message_datetime = df.at[0, 'datetime']\n",
    "last_message_datetime = df.at[df.index[-1], 'datetime']\n",
    "print(last_message_datetime)\n",
    "\n",
    "time_delta = (pd.Timestamp(last_message_datetime) - pd.Timestamp(first_message_datetime)) / np.timedelta64(1, 'h')\n",
    "time_delta = math.ceil(time_delta)\n",
    "print(time_delta)"
   ]
  },
  {
   "cell_type": "markdown",
   "metadata": {},
   "source": [
    "### Create timeseries of required period"
   ]
  },
  {
   "cell_type": "code",
   "execution_count": null,
   "metadata": {},
   "outputs": [],
   "source": [
    "dti = pd.date_range(first_message_datetime, periods=time_delta+1, freq='h')\n",
    "dti"
   ]
  },
  {
   "cell_type": "markdown",
   "metadata": {},
   "source": [
    "### Digitize datetime using timeseries"
   ]
  },
  {
   "cell_type": "code",
   "execution_count": null,
   "metadata": {},
   "outputs": [],
   "source": [
    "bins = pd.IntervalIndex.from_arrays(dti[:-1], dti[1:], closed='left')\n",
    "bins"
   ]
  },
  {
   "cell_type": "code",
   "execution_count": null,
   "metadata": {},
   "outputs": [],
   "source": [
    "timestamps = pd.to_datetime(df['datetime'].values)\n",
    "cat_obj = pd.cut(timestamps, bins)\n",
    "#print(cat_obj)\n",
    "vals = pd.value_counts(cat_obj, sort=False)\n",
    "vals.keys()"
   ]
  },
  {
   "cell_type": "markdown",
   "metadata": {},
   "source": [
    "### Create graph\n",
    "- [] Check if you can use bins argument to value_counts() by converting df['datetime']"
   ]
  },
  {
   "cell_type": "code",
   "execution_count": null,
   "metadata": {},
   "outputs": [],
   "source": [
    "plt.xlabel('Date')\n",
    "plt.ylabel('Message frequency per hour')\n",
    "plt.suptitle('Group Activity Graph')\n",
    "plt.plot(dti[:-1], vals.values)\n",
    "plt.xticks(rotation=90)"
   ]
  }
 ],
 "metadata": {
  "kernelspec": {
   "display_name": "Python 3.10.6 (conda)",
   "language": "python",
   "name": "python3"
  },
  "language_info": {
   "codemirror_mode": {
    "name": "ipython",
    "version": 3
   },
   "file_extension": ".py",
   "mimetype": "text/x-python",
   "name": "python",
   "nbconvert_exporter": "python",
   "pygments_lexer": "ipython3",
   "version": "3.10.6"
  },
  "vscode": {
   "interpreter": {
    "hash": "35f81f4eaa888697d29987430ed2c8f570ba1faf86a98c547195b26c9c99338e"
   }
  }
 },
 "nbformat": 4,
 "nbformat_minor": 2
}
